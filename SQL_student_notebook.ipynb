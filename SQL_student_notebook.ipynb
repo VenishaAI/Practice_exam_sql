{
 "cells": [
  {
   "cell_type": "markdown",
   "id": "fe102fbb",
   "metadata": {},
   "source": [
    "<div align=\"center\" style=\" font-size: 80%; text-align: center; margin: 0 auto\">\n",
    "<img src=\"https://raw.githubusercontent.com/Explore-AI/Pictures/master/Python-Notebook-Banners/Code_challenge.png\"  style=\"display: block; margin-left: auto; margin-right: auto;\";/>\n",
    "</div>"
   ]
  },
  {
   "cell_type": "markdown",
   "id": "1e0af9a5",
   "metadata": {},
   "source": [
    "# Exam 1: Querying (SQL)\n",
    "© ExploreAI Academy"
   ]
  },
  {
   "cell_type": "markdown",
   "id": "444e0788",
   "metadata": {},
   "source": [
    "## Instructions to students\n",
    "\n",
    "This section will test your knowledge on SQL.\n",
    "\n",
    "This notebook contains some starter code, as well as questions. \n",
    "\n",
    "Write the necessary code to find the answers to the questions below. Select the corresponding answer on Athena. The questions included in this notebook are numbered according to the Athena questions. The options for each question have also been included (these may be in a different order to what is on Athena).\n",
    "\n",
    "Be sure to save this notebook upon completion and upload it at the end of your exam when prompted (part of the multiple-choice test).\n",
    "\n",
    "Do not add or remove cells in this notebook. Do not edit or remove the `%%sql` comment as it is required to run each cell.\n",
    "\n",
    "**_Good luck!_**"
   ]
  },
  {
   "attachments": {},
   "cell_type": "markdown",
   "id": "5a152a51",
   "metadata": {},
   "source": [
    "## Honour code\n",
    "\n",
    "I, YOUR NAME YOUR SURNAME, confirm – by submitting this document – that the solutions in this notebook are a result of my own work and that I abide by the EDSA honour code (https://drive.google.com/file/d/1bl28j1Qe5jNyfnd7Tcuyilj-NBEQP_Tt/view?usp=sharing).\n",
    "\n",
    "Non-compliance with the honour code constitutes a material breach of contract. \n",
    "\n",
    ">⚠️ Sharing or uploading this assessment anywhere (other than onto Athena), as whole or in part, is a violation of the honour code."
   ]
  },
  {
   "attachments": {},
   "cell_type": "markdown",
   "id": "69989dd1",
   "metadata": {},
   "source": [
    "## The dataset\n",
    "\n",
    "We will be using the NIDS Coronavirus Rapid Mobile (CRAM) Survey Wave 5 2021 dataset. It is comprised of three tables that include 62 features:\n",
    "\n",
    "`Personal_2021`\n",
    "This table contains personal information such as, gender, interview month, date of birth, and marital status. \n",
    "\n",
    "`Household_2021`\n",
    "This table provides information on households such as the household income, the province and geographical type of the household, and if the household has access to water and electricity.\n",
    "\n",
    "`Employment_2021`\n",
    "This table provides data on individuals, such as whether they are being paid a wage or salary, how many days they have worked in the past month, and if they have not worked, the reason for absence.\n",
    "\n",
    "*Note that in the 2021 data, only one person was interviewed per household. Therefore, the `pid` in `Personal_2021` is the same as the `pid` in `Household_2021` for each individual. This means there is no separate household ID (`hhid`) in the 2021 dataset—only `pid` is used to represent both personal and household data.*\n",
    "\n",
    "Below is an entity relationship diagram (ERD) of the `NIDS-CRAM Wave 5 2021` database:\n",
    "\n",
    "#  \n",
    "\n",
    "<div align=\"center\" style=\" font-size: 80%; text-align: center; margin: 0 auto\">\n",
    "<img src=\"https://raw.githubusercontent.com/Explore-AI/Pictures/master/2021-database-erd.png\"  style=\"width:40%\";/>\n",
    "</div>\n",
    "\n",
    "This ERD illustrates the relationships between the tables in the database."
   ]
  },
  {
   "cell_type": "markdown",
   "id": "2dd32a30",
   "metadata": {},
   "source": [
    "You have been commissioned to analyse employment trends and household economic status in the wake of economic changes in 2021. You will use the dataset containing Employment_2021, Household_2021, and Personal_2021 tables. This analysis aims to inform government policies on economic recovery and welfare support.\n",
    "\n",
    "The following questions will guide you through examining household income distributions, employment trends, and demographic impacts. Your insights can help influence policies to address economic inequality.\n",
    "\n"
   ]
  },
  {
   "cell_type": "markdown",
   "id": "b107f1df",
   "metadata": {},
   "source": [
    "## Loading the database\n",
    "\n",
    "Before we begin, we need to prepare our SQL environment.\n",
    "\n",
    "We can do this by loading the magic command `%load_ext sql`."
   ]
  },
  {
   "cell_type": "code",
   "execution_count": null,
   "id": "908544b1",
   "metadata": {},
   "outputs": [],
   "source": [
    "# Load and activate the SQL extension to allow us to execute SQL in a Jupyter notebook. \n",
    "# If you get an error here, make sure that mysql and pymysql are installed correctly. \n",
    "\n",
    "%load_ext sql"
   ]
  },
  {
   "attachments": {},
   "cell_type": "markdown",
   "id": "f06de97e",
   "metadata": {},
   "source": [
    "Now we can load our database. \n",
    "\n",
    "To do this, we will need to ensure we have downloaded the `NiDS_CRAM_2021.db` sqlite file and have stored it in a known location. Update the cell below to connect to the location of the `.db` file.\n",
    "\n",
    "[Download NiDS_CRAM_2021.db](https://github.com/Explore-AI/Public-Data/blob/master/NiDS_CRAM_2021.db)"
   ]
  },
  {
   "cell_type": "code",
   "execution_count": null,
   "id": "b54dcfe5",
   "metadata": {},
   "outputs": [],
   "source": [
    "%sql sqlite:////NiDS_CRAM_2021.db"
   ]
  },
  {
   "attachments": {},
   "cell_type": "markdown",
   "id": "c77e8890",
   "metadata": {},
   "source": [
    "We can also load our database using a sqlite3 connection for those commands that are not supported by IPython."
   ]
  },
  {
   "cell_type": "code",
   "execution_count": null,
   "id": "d07166c3",
   "metadata": {},
   "outputs": [],
   "source": [
    "import sqlite3\n",
    "# Connect to the NiDS_CRAM database\n",
    "conn = sqlite3.connect('/NiDS_CRAM_2021.db')"
   ]
  },
  {
   "cell_type": "code",
   "execution_count": null,
   "id": "963e64c4",
   "metadata": {},
   "outputs": [],
   "source": [
    "cursor = conn.cursor()"
   ]
  },
  {
   "cell_type": "markdown",
   "id": "73e11ac5",
   "metadata": {},
   "source": [
    "# Questions\n",
    "\n",
    "Use the cell below each question to write and execute the relevant SQL queries. Your query should assist you to answer the multiple-choice questions on Athena."
   ]
  },
  {
   "cell_type": "markdown",
   "id": "4e083ac0",
   "metadata": {},
   "source": [
    "### Question 1\n",
    "Which of the following best describes the role of a `pid` in the database?"
   ]
  },
  {
   "attachments": {},
   "cell_type": "markdown",
   "id": "1086dc96",
   "metadata": {},
   "source": [
    "* `pid` is used as a foreign key to enforce referential integrity across multiple tables but does not ensure uniqueness within a table.\n",
    "* `pid` uniquely identifies each record in a table and ensures that there are no duplicate entries.\n",
    "* `pid` is an optional field that allows multiple NULL values within a table.\n",
    "* `pid` is used to automatically generate indexes for faster queries."
   ]
  },
  {
   "cell_type": "markdown",
   "id": "588b44ad",
   "metadata": {},
   "source": [
    "### Question 2\n",
    "\n",
    "The size of a household can influence various factors, including income levels and the likelihood of getting Infectious Diseases, such as COVID-19.\n",
    "\n",
    "Write a query to retrieve all individuals who belong to households with more than 20 residents.\n",
    "\n",
    "How many households have more than 20 residents?"
   ]
  },
  {
   "cell_type": "markdown",
   "id": "28f8f281",
   "metadata": {},
   "source": [
    "* 0\n",
    "* 6\n",
    "* 21\n",
    "* 10"
   ]
  },
  {
   "cell_type": "code",
   "execution_count": null,
   "id": "52c66728",
   "metadata": {},
   "outputs": [],
   "source": [
    "%%sql\n",
    "#Your code here"
   ]
  },
  {
   "cell_type": "markdown",
   "id": "70860f02",
   "metadata": {},
   "source": [
    "### Question 3\n",
    "\n",
    "Since this survey was conducted during the COVID-19 pandemic, many individuals were unable to work due to restrictions or the need to self-isolate.\n",
    "\n",
    "Write a query to calculate the average number of days worked (`emdays`) by individuals who have reported any income (`eminc`). Ensure that your query only includes individuals with non-null and income values greater than 0 from the `Employment_2021` table.\n",
    "\n",
    "* 4.5\n",
    "* 4.8\n",
    "* 3.3\n",
    "* 3.9"
   ]
  },
  {
   "cell_type": "code",
   "execution_count": null,
   "id": "4580d670",
   "metadata": {},
   "outputs": [],
   "source": [
    "%%sql\n",
    "#Your code here"
   ]
  },
  {
   "cell_type": "markdown",
   "id": "f532f64d",
   "metadata": {},
   "source": [
    "### Question 4\n",
    "\n",
    "The government is interested in identifying how many households consist solely of retirement-age individuals (i.e., all members are 60 years or older).\n",
    "\n",
    "Write a query to count the number of households where **every member** is at or above retirement age (i.e., the number of people in the household is equal to the number of people aged 60 or older).\n",
    "\n",
    "Note: You need to examine the `Household_2021` table to identify the relevant column/s to use. Ensure that your query only includes individuals with non-null values in the relevant columns.\n",
    "\n",
    "How many households consist solely of retirement-age individuals?\n",
    "\n",
    "* 5\n",
    "* 98\n",
    "* 112\n",
    "* 147"
   ]
  },
  {
   "cell_type": "code",
   "execution_count": null,
   "id": "78ef7713",
   "metadata": {},
   "outputs": [],
   "source": [
    "%%sql\n",
    "#Your code here"
   ]
  },
  {
   "attachments": {},
   "cell_type": "markdown",
   "id": "111c1712",
   "metadata": {},
   "source": [
    "### Question 5\n",
    "\n",
    "Many individuals have dependents in the form of children who rely on them for support. In this case, dependents are classified as children younger than 18 years old. The number of child grants indicates how much support they receive from the government.\n",
    "\n",
    "Write a query to display the `pid`, the total number of children in the household, and the number of child grants.\n",
    "\n",
    "Filter the results to only show the rows for the following `pid` values: `311305`, `787796`, `323054`, and `491746`.\n",
    "\n",
    "Note: You need to examine the dataset to identify the relevant column/s to use to calculate dependents < 18.\n",
    "\n",
    "What is something interesting about the results?\n",
    "* 311305 receives the most child grants but has the least children of the four `pid`'s.\n",
    "* 787796 receives 2 child grants but only has 1 dependent under 18.\n",
    "* 491746 has 6 dependents but no child grants.\n",
    "* 323054 has no dependents under 18 but receives 1 child grant."
   ]
  },
  {
   "cell_type": "code",
   "execution_count": null,
   "id": "31836dc0",
   "metadata": {},
   "outputs": [],
   "source": [
    "%%sql\n",
    "#Your code here"
   ]
  },
  {
   "cell_type": "markdown",
   "id": "a40d27e0",
   "metadata": {},
   "source": [
    "### Question 6\n",
    "To assess poverty within South Africa, we can look at the national poverty lines in 2021. The national poverty lines account for both food and non-food expenditure of individuals within a household. These lines are adjusted periodically by the government to reflect changes in the cost of living.\n",
    "\n",
    "To assess whether an individual falls below one of South Africa’s three poverty lines, you need to categorise them based on their household income per person. The three poverty lines are the Food Poverty Line (FPL), Lower-Bound Poverty Line (LBPL), and Upper-Bound Poverty Line (UBPL). If an individual is above all of these lines, they fall into the 'None' category.\n",
    "\n",
    "Your task is to calculate and categorise households based on the poverty lines set by the government. These poverty lines are defined as follows:\n",
    "\n",
    "* FPL: Income per person < 624.\n",
    "* LBPL: Income per person ≥ 624 and < 890.\n",
    "* UBPL: Income per person ≥ 890 and < 1135.\n",
    "* None: Income per person ≥ 1135.\n",
    "\n",
    "Write a query that divides the total household income (`hhinc`) by the number of residents in the household (`nopres`) to calculate the income per person. Then, based on the income per person, categorise each household into the poverty lines mentioned above.\n",
    "\n",
    "Your solution should filter out any rows with missing or null values in the columns and handle any division by zero. \n",
    "\n",
    "Display the percentage of households that fall into each poverty category.\n",
    "\n",
    "What percentage of people are in each category?\n",
    "\n",
    "* FPL: 45.32%, LBPL: 15.27%, UBPL: 10.18%, None: 29.23%\n",
    "* FPL: 52.12%, LBPL: 13.56%, UBPL: 9.10%, None: 25.22%\n",
    "* FPL: 50.73%, LBPL: 11.44%, UBPL: 7.18%, None: 30.64%\n",
    "* FPL: 48.29%, LBPL: 12.33%, UBPL: 8.05%, None: 31.33%\n"
   ]
  },
  {
   "cell_type": "code",
   "execution_count": null,
   "id": "3580f521",
   "metadata": {},
   "outputs": [],
   "source": [
    "%%sql\n",
    "# Step 1: Calculate income per person and categorise based on poverty lines\n",
    "#Your code here\n",
    "\n",
    "# Step 2: Final aggregation and result\n",
    "#Your code here"
   ]
  },
  {
   "cell_type": "markdown",
   "id": "6cdd0115",
   "metadata": {},
   "source": [
    "### Question 7\n",
    "\n",
    "When calculating the poverty line classifications, explain the role of the GROUP BY clause.\n",
    "\n",
    "* GROUP BY divides the dataset by poverty classifications, allowing the final aggregation of the number of households in each classification category. Without it, the poverty classifications would not be grouped correctly for analysis.\n",
    "\n",
    "* GROUP BY ensures that the poverty classifications are applied correctly by removing rows with NULL values, which otherwise would distort the calculation of the average income per person.\n",
    "\n",
    "* GROUP BY is used to rank the households based on their income per person, which helps in determining which households fall under specific poverty line classifications such as FPL, LBPL, UBPL, or None.\n",
    "\n",
    "* GROUP BY automatically ensures that households are sorted by their income per person in descending or ascending order, which is essential for applying the poverty classifications based on national thresholds. "
   ]
  },
  {
   "attachments": {},
   "cell_type": "markdown",
   "id": "4582bc45",
   "metadata": {},
   "source": [
    "### Question 8\n",
    "To better understand economic engagement, the government wants to measure how many individuals are actively participating in the labour force. For this analysis, the active labour force includes individuals who are currently employed (`em = 1`) or who actively searched for work in the previous month (`unems = 'Yes'`).\n",
    "\n",
    "Since this survey interviewed participants aged 18 and over, we need to exclude those who are retired (`em = 3`) to calculate the potential labour force accurately.\n",
    "\n",
    "Write a query to calculate the active labour force participation rate as a percentage of the total potential labour force in the Employment_2021 table. Ensure to exclude any rows with NULL values in both the relevant columns.\n",
    "* 43.77%\n",
    "* 56.96%\n",
    "* 51.60%\n",
    "* 67.57%\n"
   ]
  },
  {
   "cell_type": "code",
   "execution_count": null,
   "id": "042d5db3",
   "metadata": {},
   "outputs": [],
   "source": [
    "%%sql\n",
    "#Your code here"
   ]
  },
  {
   "attachments": {},
   "cell_type": "markdown",
   "id": "fb14b256",
   "metadata": {},
   "source": [
    "### Question 9\n",
    "\n",
    "There have been reports that many households rely heavily on a single member to provide for the household. You are tasked with identifying individuals whose personal income (`eminc`) accounts for more than 75% of their household income (`hhinc`).\n",
    "\n",
    "Remember to ignore NULL values.\n",
    "\n",
    "What percentage of individuals fall into this category?\n",
    "\n",
    "* 0%\n",
    "* 31.38%\n",
    "* 61.70%\n",
    "* 55.75%"
   ]
  },
  {
   "cell_type": "code",
   "execution_count": null,
   "id": "cb4418f7",
   "metadata": {},
   "outputs": [],
   "source": [
    "%%sql\n",
    "#Your code here"
   ]
  },
  {
   "attachments": {},
   "cell_type": "markdown",
   "id": "b834d602",
   "metadata": {},
   "source": [
    "### Question 10\n",
    "\n",
    "The government is investigating the gender pay gap across different employment sectors. To understand the differences in average income (`eminc`) between males and females, write a query to:\n",
    "* Calculate the total income for males (`gen = 'Male'`) who reported any positive income (`eminc > 0`) and compute the average income by dividing this total by the number of males with positive income.\n",
    "* Repeat the same calculation for females (`gen = 'Female'`).\n",
    "* Return the average income for both males and females.\n",
    "\n",
    "Remember to exclude rows with NULL values in either column and only include those who are actually earning (`eminc > 0`).\n",
    "\n",
    "What is the average income for males and the average income of females?\n",
    "\n",
    "* Male: R8973, Female: R5161\n",
    "* Male: R11154, Female: R6328\n",
    "* Male: R15081, Female: R5823\n",
    "* Male: R9071, Female: R4755"
   ]
  },
  {
   "cell_type": "code",
   "execution_count": null,
   "id": "ac872dc6",
   "metadata": {},
   "outputs": [],
   "source": [
    "%%sql\n",
    "#Your code here"
   ]
  },
  {
   "cell_type": "markdown",
   "id": "4af03e7a",
   "metadata": {},
   "source": [
    "### Question 11\n",
    "According to findings from a study conducted on the SA-TIED programme, in 2021, women in South Africa earned 78 cents for every rand earned by men. This is a 22% gender pay gap. \n",
    "\n",
    "The results from our analysis were significantly higher than this. Why do you think this is?\n",
    "* The analysis was skewed by including too many male participants, which led to a lower reported pay gap.\n",
    "* The lower pay gap is a result of women being over-represented in higher-paying industries in the survey.\n",
    "* We could only calculate income for households rather than individual earnings, causing the discrepancy in results.\n",
    "* There was a significant amount of missing data, which means we did not have enough data to accurately determine the population pay gap.\n",
    "\n"
   ]
  },
  {
   "cell_type": "code",
   "execution_count": null,
   "id": "100a8f1f",
   "metadata": {},
   "outputs": [],
   "source": [
    "%%sql\n",
    "#Your code here"
   ]
  },
  {
   "attachments": {},
   "cell_type": "markdown",
   "id": "99068ce6",
   "metadata": {},
   "source": [
    "### Question 12\n",
    "\n",
    "There is a hypothesis that larger households tend to have lower income per person. To test this, calculate the average household size and the corresponding average income per person (`hhinc / nopres`).\n",
    "\n",
    "Filter out any households with a missing or zero values in `nopres` or `hhinc`.\n",
    "\n",
    "Determine the average income per person for:\n",
    "* Households with more than 8 residents\n",
    "* Households with 8 or fewer residents\n",
    "\n",
    "What is the average income per person for households with more than 8 residents, compared to those with 8 or less?\n",
    "\n",
    "* Based on our data, the hypothesis was correct. 8 or fewer residents: R2048.88, More than 8 residents: R373.70\n",
    "* Based on our data, the hypothesis was incorrect. 8 or fewer residents: R469.58, More than 8 residents: R1806.73\n",
    "* Based on our data, the hypothesis was correct. 8 or fewer residents: R2106.92, More than 8 residents: R299.45\n",
    "* Based on our data, the hypothesis was correct. 8 or fewer residents: R1950.21, More than 8 residents: R400.36"
   ]
  },
  {
   "cell_type": "code",
   "execution_count": null,
   "id": "3be9f42d",
   "metadata": {},
   "outputs": [],
   "source": [
    "%%sql\n",
    "#Your code here"
   ]
  },
  {
   "attachments": {},
   "cell_type": "markdown",
   "id": "f0b3b76a",
   "metadata": {},
   "source": [
    "### Question 13\n",
    "\n",
    "The government wants to assess how many households received the special COVID-19 social relief of distress grant in March. They need to know how many households had at least one member receiving this grant (`hhinccv >= 1`).\n",
    "\n",
    "Write a query to count the number of households that received the COVID-19 relief grant.\n",
    "\n",
    "How many households received the COVID-19 relief grant?\n",
    "\n",
    "* 5390\n",
    "* 4145\n",
    "* 727\n",
    "* 1918"
   ]
  },
  {
   "cell_type": "code",
   "execution_count": null,
   "id": "0723e963",
   "metadata": {},
   "outputs": [],
   "source": [
    "%%sql\n",
    "#Your code here"
   ]
  },
  {
   "attachments": {},
   "cell_type": "markdown",
   "id": "e3d1eeae",
   "metadata": {},
   "source": [
    "### Question 14\n",
    "We know COVID-19 restrictions impacted people's ability to work. Using the column `noemex`, which details why people were unavailable or unwilling to work, identify how many individuals cited reasons related to COVID-19, specifically: \"Coronavirus,\" \"Lockdown,\" or \"Scared of Coronavirus\".\n",
    "\n",
    "What is the total number of people impacted by these COVID-19 reasons?\n",
    "\n",
    "* 253\n",
    "* 135\n",
    "* 76\n",
    "* 28"
   ]
  },
  {
   "cell_type": "code",
   "execution_count": null,
   "id": "dc66c9a8",
   "metadata": {},
   "outputs": [],
   "source": [
    "%%sql\n",
    "#Your code here"
   ]
  },
  {
   "attachments": {},
   "cell_type": "markdown",
   "id": "a9ae36ba",
   "metadata": {},
   "source": [
    "### Question 15\n",
    "The government is interested in exploring whether larger households were more likely to receive the COVID-19 social relief grant. Write a query to calculate the average household size (`nopres`) for households that received at least one COVID-19 grant (`hhinccv > 0`).\n",
    "\n",
    "What is the average household size for these households?\n",
    "\n",
    "* 8 people\n",
    "* 6 people\n",
    "* 7 people\n",
    "* 11 people"
   ]
  },
  {
   "cell_type": "code",
   "execution_count": null,
   "id": "ef99a30d",
   "metadata": {},
   "outputs": [],
   "source": [
    "%%sql\n",
    "#Your code here"
   ]
  },
  {
   "attachments": {},
   "cell_type": "markdown",
   "id": "7aa7504e",
   "metadata": {},
   "source": [
    "### Question 16\n",
    "\n",
    "We want to identify the most common reasons people gave for not working due to COVID-19 in March, based on the `emabs` column. Write a query to count the occurrences of each reason related to COVID-19 (`emabs`). Include: \"Lockdown\", \"Self isolating\" \"Business temporarily closed,\" and \"Illegal to go to work.\"\n",
    "\n",
    "Which of the COVID-19 reasons had the highest number of occurrences?\n",
    "\n",
    "* Lockdown\n",
    "* Business temporarily closed\n",
    "* Illegal to go to work\n",
    "* Self-isolating"
   ]
  },
  {
   "cell_type": "code",
   "execution_count": null,
   "id": "eae7ed58",
   "metadata": {},
   "outputs": [],
   "source": [
    "%%sql\n",
    "#Your code here"
   ]
  },
  {
   "cell_type": "markdown",
   "id": "0181043a",
   "metadata": {},
   "source": [
    "### Question 17\n",
    "\n",
    "The Department of Social Development is investigating food insecurity during March. They want to know how many households ran out of money to buy food (`hhfdyn = 'Yes'`).\n",
    "\n",
    "Write a query to calculate the total number of households that experienced this issue.\n",
    "\n",
    "* 2312\n",
    "* 89\n",
    "* 1116\n",
    "* 5650\n"
   ]
  },
  {
   "cell_type": "code",
   "execution_count": null,
   "id": "476c736d",
   "metadata": {},
   "outputs": [],
   "source": [
    "%%sql\n",
    "#Your code here"
   ]
  },
  {
   "attachments": {},
   "cell_type": "markdown",
   "id": "0cf0289c",
   "metadata": {},
   "source": [
    "### Question 18\n",
    "The Ministry of Employment is interested in exploring gender (`gen`) differences in employment. Write a query to calculate the percentage of males (`gen = 'Male'`) and females (`gen = 'Female'`) who had a job in March (em = 1).\n",
    "\n",
    "Hint: Use a Common Table Expression (CTE) to first count the total number of individuals and the number who were employed for each gender group.\n",
    "\n",
    "*Note: The employment percentages for males and females do not need to sum to 100%. The percentages should represent the proportion of males and females who are employed within their respective gender groups, not the overall workforce distribution between the two genders.*\n",
    "\n",
    "What proportion of males and females are employed (within their respective gender groups)?\n",
    "* Female: 22.34%, Male: 61.58%\n",
    "* Female: 30.13%, Male: 43.82%\n",
    "* Female: 43.98%, Male: 40.12%\n",
    "* Female: 34.08%, Male: 52.97%\n",
    "\n"
   ]
  },
  {
   "cell_type": "code",
   "execution_count": null,
   "id": "6751b7f1",
   "metadata": {},
   "outputs": [],
   "source": [
    "%%sql\n",
    "#Your code here"
   ]
  },
  {
   "cell_type": "markdown",
   "id": "fdd1ea13",
   "metadata": {},
   "source": [
    "### Question 19\n",
    "\n",
    "Suppose we want to combine the Personal_2021 data with a hypothetical Personal_2017 data. The columns in the 2017 data have the same names but are suffixed with '_17'. We want to ensure that our report includes all individuals captured in 2017, along with any new data from 2021, if available. Which join should we use?\n",
    "\n",
    "* SELECT * FROM Personal_2021 LEFT JOIN Personal_2017 ON Personal_2021.pid = Personal_2017.pid_17\n",
    "* SELECT * FROM Personal_2017 LEFT JOIN Personal_2021 ON Personal_2017.pid_17 = Personal_2021.pid\n",
    "* SELECT * FROM Personal_2021 INNER JOIN Personal_2017 ON Personal_2021.pid = Personal_2017.pid_17\n",
    "* SELECT * FROM Personal_2017 RIGHT JOIN Personal_2021 ON Personal_2017.pid_17 = Personal_2021.pid"
   ]
  },
  {
   "attachments": {},
   "cell_type": "markdown",
   "id": "1a23391f",
   "metadata": {},
   "source": [
    "### Question 20\n",
    "\n",
    "The government wants to compare employment rates across provinces. Write a query to calculate the percentage of individuals who were employed in each province (`prov`) in March (`em = 1`).\n",
    "\n",
    "Ensure you are calculating the **employment rate** for each province, which means the percentage of individuals who are currently employed within that province relative to the total potential labour force. It **does not** mean that the percentages across provinces will add up to 100%.\n",
    "\n",
    "For this analysis, currently employed individuals are identified as `em = 1`. The potential labour force is anyone who is not retired, i.e., `em != 3`\n",
    "\n",
    "Each province's percentage is calculated as:\n",
    "\n",
    "$$\\text{Employment Rate} = \\left(\\frac{\\text{Number of Currently Employed People in Province}}{\\text{Total Potential Labour Force of Province}}\\right) \\times 100$$\n",
    "\n",
    "Remember to exclude NULL values.\n",
    "\n",
    "Hint: Use a CTE to help calculate both the total potential labour force and the number of employed individuals for each province. This simplifies your final query.\n",
    "\n",
    "Which province had the highest employment rate and which province had the lowest employment rate?\n",
    "\n",
    "* Highest: Western Cape, Lowest: Limpopo\n",
    "* Highest: Gauteng, Lowest: Mpumalanga\n",
    "* Highest: Northern Cape, Lowest: North West\n",
    "* Highest: Gauteng, Lowest: North West"
   ]
  },
  {
   "cell_type": "code",
   "execution_count": null,
   "id": "5d951190",
   "metadata": {},
   "outputs": [],
   "source": [
    "%%sql\n",
    "#Your code here"
   ]
  },
  {
   "cell_type": "markdown",
   "id": "fc5e61ed",
   "metadata": {},
   "source": [
    "### Question 21\n",
    "\n",
    "When calculating the employment rate across different provinces, why is it crucial to consider the total sample size of each province instead of comparing the absolute number of employed individuals across provinces?\n",
    "\n",
    "* If we did not include each province's sample size, smaller provinces would always have higher income.\n",
    "* To ensure we account for differences in population size in each province.\n",
    "* To ensure that the total percentage of employed individuals across provinces adds up to 100%.\n",
    "* To prioritise larger provinces and ensure they receive more resources than smaller provinces."
   ]
  },
  {
   "cell_type": "markdown",
   "id": "90ba7127",
   "metadata": {},
   "source": [
    "### Question 22\n",
    "\n",
    "The government is analysing household income across provinces to understand how households compare to the average income within their respective provinces.\n",
    "\n",
    "Write a query that does the following:\n",
    "\n",
    "* Calculate the average household income for each province: Use a window function to calculate the average household income (`hhinc`) for each province (`prov`) while retaining individual household details. Remember to exclude rows with NULL values in the columns.\n",
    "* Categorise households based on income: Compare each household's income to the average income in their province and categorise them as either 'Above Average', 'Below Average', or 'At Average'.\n",
    "* Count the households in each income category: Group the results by province and income category and count how many households fall into each category.\n",
    "\n",
    "The goal is to identify how many households, in each province, have income above, below, or at the provincial average.\n",
    "\n",
    "Which province has the most household earning below the provincial average?\n",
    "\n",
    "* Mpumalanga\n",
    "* Free State\n",
    "* Gauteng\n",
    "* KwaZulu-Natal"
   ]
  },
  {
   "cell_type": "code",
   "execution_count": null,
   "id": "d74d68bc",
   "metadata": {},
   "outputs": [],
   "source": [
    "%%sql\n",
    "#Your code here"
   ]
  },
  {
   "cell_type": "markdown",
   "id": "c792933a",
   "metadata": {},
   "source": [
    "\n",
    "### Question 23\n",
    "\n",
    "Why is a window function more suitable than a `GROUP BY` query when tasked with calculating the average household income per province?\n",
    "\n",
    "* A window function retains individual row details while computing the provincial average, allowing comparisons within the same query. In contrast, GROUP BY collapses data, losing individual information.\n",
    "* A window function calculates aggregates by dividing rows into independent groups, which prevents any mixing of data from different groups, unlike GROUP BY which does not maintain this separation.\n",
    "* Using a window function ensures that the income categories are calculated separately for each province without the need for any additional filtering, making the process automatic and more accurate.\n",
    "* A window function is essential because it automatically filters out null values, whereas GROUP BY cannot handle null values effectively."
   ]
  },
  {
   "attachments": {},
   "cell_type": "markdown",
   "id": "0ee38136",
   "metadata": {},
   "source": [
    "### Question 24\n",
    "The government wants to assess how the age distribution varies across different types of areas (`area`). Understanding the age distribution can help tailor specific services to different regions.\n",
    "\n",
    "Write a query to calculate the average age of individuals living in urban areas (\"Urban areas/towns\") compared to those living in rural areas, (which will include \"Traditional area/chiefdom\" OR \"Farm/rural areas\").\n",
    "\n",
    "For this question age can be calculated simply as `2021 - birth year`.\n",
    "Remember to account for `NULL` values.\n",
    "\n",
    "What is the average age in these two area types?\n",
    "\n",
    "* Urban: 37.98, Rural: 49.23 \n",
    "* Urban: 44.87, Rural: 49.62\n",
    "* Urban: 29.88, Rural: 40.10\n",
    "* Urban: 41.57, Rural: 42.22"
   ]
  },
  {
   "cell_type": "code",
   "execution_count": null,
   "id": "6dd0d2b2",
   "metadata": {},
   "outputs": [],
   "source": [
    "%%sql\n",
    "#Your code here"
   ]
  },
  {
   "cell_type": "markdown",
   "id": "eb57e17c",
   "metadata": {},
   "source": [
    "### Question 25\n",
    "\n",
    "During the COVID-19 pandemic, access to electricity became critical for families to stay connected to information, resources, and work-from-home opportunities. The government wants to analyse whether households with electricity access differ in income.\n",
    "\n",
    "Write a query to calculate the average household income (`hhinc`) for households with access to electricity (`enrgelec = 'Yes'`) versus those without electricity (`enrgelec = 'No'`). Remember to exclude rows with NULL values in the columns.\n",
    "\n",
    "What is the difference in average income between these two groups (round to the nearest whole number before calculating the difference)?\n",
    "\n",
    "* R1908\n",
    "* R2708\n",
    "* R1203\n",
    "* R3845\n"
   ]
  },
  {
   "cell_type": "code",
   "execution_count": null,
   "id": "e4994ddf",
   "metadata": {},
   "outputs": [],
   "source": [
    "%%sql\n",
    "#Your code here"
   ]
  },
  {
   "cell_type": "markdown",
   "id": "6a55ca70",
   "metadata": {},
   "source": [
    "### Question 26\n",
    "\n",
    "The government is running several large-scale analyses on an employment dataset, which includes millions of records. One of the queries is performing slowly when calculating the employment rate across provinces, particularly when filtering based on age groups.\n",
    "\n",
    "What steps would you take to optimise this query, and why would these optimisations improve performance?\n",
    "\n",
    "* Removing all WHERE clauses from the query, as these clauses slow down performance by filtering data.\n",
    "* Adding more GROUP BY clauses to break down the query into smaller, faster calculations.\n",
    "* Implement indexing on the columns frequently used in filtering conditions (e.g., age groups and province) to speed up lookups and filtering by reducing the need to scan all rows.\n",
    "* Adding additional nested subqueries to improve query readability and performance."
   ]
  },
  {
   "cell_type": "markdown",
   "id": "f075ec25",
   "metadata": {},
   "source": [
    "### Question 27\n",
    "\n",
    "We want to analyse the correlation between the type of dwelling and access to basic services. Specifically, we want to know how many households living in informal houses (`dwltyp` is \"An informal house like a shack\") have access to piped or tap water (`watsrc = 'Yes'`).\n",
    "\n",
    "Write a query to calculate the percentage of households living in informal houses that have access to piped or tap water.\n",
    "\n",
    "What percentage of these households have access to water?\n",
    "\n",
    "* 32.45%\n",
    "* 67.89%\n",
    "* 66.03%\n",
    "* 14.21%"
   ]
  },
  {
   "cell_type": "code",
   "execution_count": null,
   "id": "4e0aa175",
   "metadata": {},
   "outputs": [],
   "source": [
    "%%sql\n",
    "#Your code here"
   ]
  },
  {
   "cell_type": "code",
   "execution_count": null,
   "id": "9e5d5d92",
   "metadata": {},
   "outputs": [],
   "source": [
    "#conn.close()"
   ]
  },
  {
   "attachments": {},
   "cell_type": "markdown",
   "id": "8bc8a18f",
   "metadata": {},
   "source": [
    "#  \n",
    "\n",
    "<div align=\"center\" style=\" font-size: 80%; text-align: center; margin: 0 auto\">\n",
    "<img src=\"https://raw.githubusercontent.com/Explore-AI/Pictures/master/ExploreAI_logos/EAI_Blue_Dark.png\"  style=\"width:200px\";/>\n",
    "</div>"
   ]
  }
 ],
 "metadata": {
  "kernelspec": {
   "display_name": "Python 3 (ipykernel)",
   "language": "python",
   "name": "python3"
  },
  "language_info": {
   "codemirror_mode": {
    "name": "ipython",
    "version": 3
   },
   "file_extension": ".py",
   "mimetype": "text/x-python",
   "name": "python",
   "nbconvert_exporter": "python",
   "pygments_lexer": "ipython3",
   "version": "3.11.5"
  }
 },
 "nbformat": 4,
 "nbformat_minor": 5
}
